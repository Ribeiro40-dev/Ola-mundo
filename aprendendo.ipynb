{
 "cells": [
  {
   "cell_type": "markdown",
   "metadata": {},
   "source": [
    "#Estudando Python"
   ]
  },
  {
   "cell_type": "code",
   "execution_count": 7,
   "metadata": {},
   "outputs": [
    {
     "name": "stdout",
     "output_type": "stream",
     "text": [
      "Olá visitante!\n",
      "Usuário não encontrado!\n",
      " Até logo!\n"
     ]
    }
   ],
   "source": [
    "print('Olá visitante!')\n",
    "nome = input('digite seu nome')\n",
    "if nome ==  'Ribeiro':\n",
    "    print(f'Seja bem vindo {nome}!')\n",
    "else:\n",
    "    print('Usuário não encontrado!')\n",
    "\n",
    "\n",
    "\n",
    "print(' Até logo!')\n"
   ]
  },
  {
   "cell_type": "code",
   "execution_count": 8,
   "metadata": {},
   "outputs": [
    {
     "name": "stdout",
     "output_type": "stream",
     "text": [
      "Você tem 40 anos!\n"
     ]
    }
   ],
   "source": [
    "ano_nascimento = input(\"Digite o ano que você nasceu!\")\n",
    "idade = 2024 - int(ano_nascimento)\n",
    "print(f\"Você tem {idade} anos!\")\n",
    "\n"
   ]
  },
  {
   "cell_type": "code",
   "execution_count": 4,
   "metadata": {},
   "outputs": [
    {
     "name": "stdout",
     "output_type": "stream",
     "text": [
      "20\n"
     ]
    }
   ],
   "source": [
    "n1 = int(input('Digite um número'))\n",
    "n2 = int(input('Digite outro número'))\n",
    "r = n1 + n2\n",
    "print(r)"
   ]
  },
  {
   "cell_type": "markdown",
   "metadata": {},
   "source": []
  },
  {
   "cell_type": "code",
   "execution_count": 6,
   "metadata": {},
   "outputs": [
    {
     "name": "stdout",
     "output_type": "stream",
     "text": [
      "Digite seu nome, ou x para para:\n",
      "Bem vindo, Pedro\n",
      "Digite seu nome, ou x para para:\n",
      "Bem vindo, João\n",
      "Digite seu nome, ou x para para:\n",
      "Até logo!\n"
     ]
    }
   ],
   "source": [
    "nome = None\n",
    "\n",
    "while True:\n",
    "    print('Digite seu nome, ou x para para:')\n",
    "    nome = input()\n",
    "    if nome == 'x' or nome == 'X':\n",
    "        break\n",
    "    print (f\"Bem vindo, {nome}\")\n",
    "\n",
    "print ('Até logo!')\n"
   ]
  },
  {
   "cell_type": "code",
   "execution_count": 9,
   "metadata": {},
   "outputs": [
    {
     "name": "stdout",
     "output_type": "stream",
     "text": [
      "1\n",
      "2\n",
      "3\n",
      "4\n",
      "5\n",
      "laço finalizado\n"
     ]
    }
   ],
   "source": [
    "num = 1\n",
    "while (num <=5):\n",
    "    print (num)\n",
    "    num += 1\n",
    "\n",
    "print ('laço finalizado')"
   ]
  },
  {
   "cell_type": "code",
   "execution_count": 14,
   "metadata": {},
   "outputs": [
    {
     "name": "stdout",
     "output_type": "stream",
     "text": [
      "P\n",
      "e\n",
      "d\n",
      "r\n",
      "o\n"
     ]
    }
   ],
   "source": [
    "#lista = [2,6,8,4,2,7,10,58]\n",
    "palavra = 'Pedro'\n",
    "for letra in palavra:\n",
    "    print (letra)"
   ]
  },
  {
   "cell_type": "code",
   "execution_count": 18,
   "metadata": {},
   "outputs": [
    {
     "name": "stdout",
     "output_type": "stream",
     "text": [
      "1 Pedro\n",
      "2 Pedro\n",
      "3 Pedro\n"
     ]
    }
   ],
   "source": [
    "nome = input('digite seu nome: ')\n",
    "for x in range(3):\n",
    "    print(f'{x+1} {nome}')\n"
   ]
  },
  {
   "cell_type": "code",
   "execution_count": 16,
   "metadata": {},
   "outputs": [
    {
     "name": "stdout",
     "output_type": "stream",
     "text": [
      "\u001b[32mverde\n",
      "\u001b[31mvermelho\n",
      "\u001b[33mamarelo\n",
      "\u001b[34mazul\n",
      "\u001b[35mroxo\n",
      "\u001b[37mcinza\n"
     ]
    }
   ],
   "source": [
    "#\\033[0;30;41m\n",
    "print ('\\033[32mverde')\n",
    "\n",
    "print (\"\\033[31mvermelho\")\n",
    "print ('\\033[33mamarelo')\n",
    "print ('\\033[34mazul')\n",
    "print ('\\033[35mroxo')\n",
    "print ('\\033[37mcinza')"
   ]
  }
 ],
 "metadata": {
  "kernelspec": {
   "display_name": "Python 3",
   "language": "python",
   "name": "python3"
  },
  "language_info": {
   "codemirror_mode": {
    "name": "ipython",
    "version": 3
   },
   "file_extension": ".py",
   "mimetype": "text/x-python",
   "name": "python",
   "nbconvert_exporter": "python",
   "pygments_lexer": "ipython3",
   "version": "3.9.6"
  }
 },
 "nbformat": 4,
 "nbformat_minor": 2
}
