{
 "cells": [
  {
   "cell_type": "code",
   "execution_count": 7,
   "metadata": {},
   "outputs": [
    {
     "name": "stdout",
     "output_type": "stream",
     "text": [
      "Olá visitante!\n",
      "Usuário não encontrado!\n",
      " Até logo!\n"
     ]
    }
   ],
   "source": [
    "print('Olá visitante!')\n",
    "nome = input('digite seu nome')\n",
    "if nome ==  'Ribeiro':\n",
    "    print(f'Seja bem vindo {nome}!')\n",
    "else:\n",
    "    print('Usuário não encontrado!')\n",
    "\n",
    "\n",
    "\n",
    "print(' Até logo!')\n"
   ]
  },
  {
   "cell_type": "code",
   "execution_count": 8,
   "metadata": {},
   "outputs": [
    {
     "name": "stdout",
     "output_type": "stream",
     "text": [
      "Você tem 40 anos!\n"
     ]
    }
   ],
   "source": [
    "ano_nascimento = input(\"Digite o ano que você nasceu!\")\n",
    "idade = 2024 - int(ano_nascimento)\n",
    "print(f\"Você tem {idade} anos!\")\n",
    "\n"
   ]
  },
  {
   "cell_type": "code",
   "execution_count": null,
   "metadata": {},
   "outputs": [],
   "source": []
  },
  {
   "cell_type": "markdown",
   "metadata": {},
   "source": []
  }
 ],
 "metadata": {
  "kernelspec": {
   "display_name": "Python 3",
   "language": "python",
   "name": "python3"
  },
  "language_info": {
   "codemirror_mode": {
    "name": "ipython",
    "version": 3
   },
   "file_extension": ".py",
   "mimetype": "text/x-python",
   "name": "python",
   "nbconvert_exporter": "python",
   "pygments_lexer": "ipython3",
   "version": "3.9.6"
  }
 },
 "nbformat": 4,
 "nbformat_minor": 2
}
