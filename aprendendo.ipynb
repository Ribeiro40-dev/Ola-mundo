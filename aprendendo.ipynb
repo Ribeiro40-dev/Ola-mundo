{
 "cells": [
  {
   "cell_type": "markdown",
   "metadata": {},
   "source": [
    "#Estudando Python"
   ]
  },
  {
   "cell_type": "code",
   "execution_count": 7,
   "metadata": {},
   "outputs": [
    {
     "name": "stdout",
     "output_type": "stream",
     "text": [
      "Olá visitante!\n",
      "Usuário não encontrado!\n",
      " Até logo!\n"
     ]
    }
   ],
   "source": [
    "print('Olá visitante!')\n",
    "nome = input('digite seu nome')\n",
    "if nome ==  'Ribeiro':\n",
    "    print(f'Seja bem vindo {nome}!')\n",
    "else:\n",
    "    print('Usuário não encontrado!')\n",
    "\n",
    "\n",
    "\n",
    "print(' Até logo!')\n"
   ]
  },
  {
   "cell_type": "code",
   "execution_count": 8,
   "metadata": {},
   "outputs": [
    {
     "name": "stdout",
     "output_type": "stream",
     "text": [
      "Você tem 40 anos!\n"
     ]
    }
   ],
   "source": [
    "ano_nascimento = input(\"Digite o ano que você nasceu!\")\n",
    "idade = 2024 - int(ano_nascimento)\n",
    "print(f\"Você tem {idade} anos!\")\n",
    "\n"
   ]
  },
  {
   "cell_type": "code",
   "execution_count": 4,
   "metadata": {},
   "outputs": [
    {
     "name": "stdout",
     "output_type": "stream",
     "text": [
      "20\n"
     ]
    }
   ],
   "source": [
    "n1 = int(input('Digite um número'))\n",
    "n2 = int(input('Digite outro número'))\n",
    "r = n1 + n2\n",
    "print(r)"
   ]
  },
  {
   "cell_type": "markdown",
   "metadata": {},
   "source": []
  },
  {
   "cell_type": "code",
   "execution_count": 6,
   "metadata": {},
   "outputs": [
    {
     "name": "stdout",
     "output_type": "stream",
     "text": [
      "Digite seu nome, ou x para para:\n",
      "Bem vindo, Pedro\n",
      "Digite seu nome, ou x para para:\n",
      "Bem vindo, João\n",
      "Digite seu nome, ou x para para:\n",
      "Até logo!\n"
     ]
    }
   ],
   "source": [
    "nome = None\n",
    "\n",
    "while True:\n",
    "    print('Digite seu nome, ou x para para:')\n",
    "    nome = input()\n",
    "    if nome == 'x' or nome == 'X':\n",
    "        break\n",
    "    print (f\"Bem vindo, {nome}\")\n",
    "\n",
    "print ('Até logo!')\n"
   ]
  },
  {
   "cell_type": "code",
   "execution_count": 9,
   "metadata": {},
   "outputs": [
    {
     "name": "stdout",
     "output_type": "stream",
     "text": [
      "1\n",
      "2\n",
      "3\n",
      "4\n",
      "5\n",
      "laço finalizado\n"
     ]
    }
   ],
   "source": [
    "num = 1\n",
    "while (num <=5):\n",
    "    print (num)\n",
    "    num += 1\n",
    "\n",
    "print ('laço finalizado')"
   ]
  },
  {
   "cell_type": "code",
   "execution_count": 14,
   "metadata": {},
   "outputs": [
    {
     "name": "stdout",
     "output_type": "stream",
     "text": [
      "P\n",
      "e\n",
      "d\n",
      "r\n",
      "o\n"
     ]
    }
   ],
   "source": [
    "#lista = [2,6,8,4,2,7,10,58]\n",
    "palavra = 'Pedro'\n",
    "for letra in palavra:\n",
    "    print (letra)"
   ]
  },
  {
   "cell_type": "code",
   "execution_count": 18,
   "metadata": {},
   "outputs": [
    {
     "name": "stdout",
     "output_type": "stream",
     "text": [
      "1 Pedro\n",
      "2 Pedro\n",
      "3 Pedro\n"
     ]
    }
   ],
   "source": [
    "nome = input('digite seu nome: ')\n",
    "for x in range(3):\n",
    "    print(f'{x+1} {nome}')\n"
   ]
  },
  {
   "cell_type": "code",
   "execution_count": 16,
   "metadata": {},
   "outputs": [
    {
     "name": "stdout",
     "output_type": "stream",
     "text": [
      "\u001b[32mverde\n",
      "\u001b[31mvermelho\n",
      "\u001b[33mamarelo\n",
      "\u001b[34mazul\n",
      "\u001b[35mroxo\n",
      "\u001b[37mcinza\n"
     ]
    }
   ],
   "source": [
    "#\\033[0;30;41m\n",
    "print ('\\033[32mverde')\n",
    "\n",
    "print (\"\\033[31mvermelho\")\n",
    "print ('\\033[33mamarelo')\n",
    "print ('\\033[34mazul')\n",
    "print ('\\033[35mroxo')\n",
    "print ('\\033[37mcinza')"
   ]
  },
  {
   "cell_type": "markdown",
   "metadata": {},
   "source": [
    "# Aplicativo"
   ]
  },
  {
   "cell_type": "code",
   "execution_count": null,
   "metadata": {},
   "outputs": [
    {
     "ename": "",
     "evalue": "",
     "output_type": "error",
     "traceback": [
      "\u001b[1;31mFalha ao iniciar o Kernel. \n",
      "\u001b[1;31mNão é possível iniciar o Kernel \"Python 3.9.6\" devido a um tempo limite aguardando as portas serem usadas. \n",
      "\u001b[1;31mConsulte o <a href='command:jupyter.viewOutput'>log</a> do Jupyter para obter mais detalhes."
     ]
    }
   ],
   "source": [
    "import kivy\n",
    "from kivy.app import App: \n",
    "from kivy.uix.boxlayouy import BoxLayout:\n",
    "from kivy.uix.button import Button:\n",
    "from kivy.uix.labelimport import Label:\n",
    "\n",
    "class FirstLayout(BoxLayout):\n",
    "    pass \n",
    "\n",
    "class Tset(App):\n",
    "    def build(self):\n",
    "        layout1 = FirstLayout(orientation='vertical')\n",
    "        layout1.add_widget(Button(text='Projeto Saúde'))\n",
    "        layout1.add_widget(Label(text='Receitas'))\n",
    "        retoun layout1\n",
    "\n",
    "Test().run() "
   ]
  }
 ],
 "metadata": {
  "kernelspec": {
   "display_name": "Python 3",
   "language": "python",
   "name": "python3"
  },
  "language_info": {
   "codemirror_mode": {
    "name": "ipython",
    "version": 3
   },
   "file_extension": ".py",
   "mimetype": "text/x-python",
   "name": "python",
   "nbconvert_exporter": "python",
   "pygments_lexer": "ipython3",
   "version": "3.9.6"
  }
 },
 "nbformat": 4,
 "nbformat_minor": 2
}
